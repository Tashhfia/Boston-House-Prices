{
 "cells": [
  {
   "cell_type": "code",
   "execution_count": 1,
   "id": "5b627b00",
   "metadata": {
    "_cell_guid": "b1076dfc-b9ad-4769-8c92-a6c4dae69d19",
    "_uuid": "8f2839f25d086af736a60e9eeb907d3b93b6e0e5",
    "execution": {
     "iopub.execute_input": "2023-01-31T15:09:31.142380Z",
     "iopub.status.busy": "2023-01-31T15:09:31.141196Z",
     "iopub.status.idle": "2023-01-31T15:09:32.628924Z",
     "shell.execute_reply": "2023-01-31T15:09:32.627722Z"
    },
    "papermill": {
     "duration": 1.498244,
     "end_time": "2023-01-31T15:09:32.631603",
     "exception": false,
     "start_time": "2023-01-31T15:09:31.133359",
     "status": "completed"
    },
    "tags": []
   },
   "outputs": [
    {
     "name": "stdout",
     "output_type": "stream",
     "text": [
      "/kaggle/input/the-boston-houseprice-data/boston.csv\n"
     ]
    }
   ],
   "source": [
    "import numpy as np \n",
    "import pandas as pd \n",
    "\n",
    "import seaborn as sns\n",
    "import matplotlib.pyplot as plt\n",
    "sns.set()\n",
    "\n",
    "from sklearn.model_selection import train_test_split\n",
    "from sklearn.linear_model import LinearRegression\n",
    "from sklearn.feature_selection import f_regression\n",
    "from sklearn.preprocessing import StandardScaler\n",
    "\n",
    "#To plot the graph embedded in the notebook\n",
    "%matplotlib inline\n",
    "\n",
    "import os\n",
    "for dirname, _, filenames in os.walk('/kaggle/input'):\n",
    "    for filename in filenames:\n",
    "        print(os.path.join(dirname, filename))\n",
    "        df = pd.read_csv(os.path.join(dirname, filename))"
   ]
  },
  {
   "cell_type": "markdown",
   "id": "d6dcc3ec",
   "metadata": {
    "papermill": {
     "duration": 0.004418,
     "end_time": "2023-01-31T15:09:32.641067",
     "exception": false,
     "start_time": "2023-01-31T15:09:32.636649",
     "status": "completed"
    },
    "tags": []
   },
   "source": [
    "**Input features in order:**\n",
    "1) CRIM: per capita crime rate by town <br>\n",
    "2) ZN: proportion of residential land zoned for lots over 25,000 sq.ft.<br>\n",
    "3) INDUS: proportion of non-retail business acres per town<br>\n",
    "4) CHAS: Charles River dummy variable (1 if tract bounds river; 0 otherwise)<br>\n",
    "5) NOX: nitric oxides concentration (parts per 10 million) [parts/10M]<br>\n",
    "6) RM: average number of rooms per dwelling<br>\n",
    "7) AGE: proportion of owner-occupied units built prior to 1940<br>\n",
    "8) DIS: weighted distances to five Boston employment centres<br>\n",
    "9) RAD: index of accessibility to radial highways<br>\n",
    "10) TAX: full-value property-tax rate per $10,000 [$/10k]<br>\n",
    "11) PTRATIO: pupil-teacher ratio by town<br>\n",
    "12) B: The result of the equation B=1000(Bk - 0.63)^2 where Bk is the proportion of blacks by town<br>\n",
    "13) LSTAT: % lower status of the population<br>\n",
    "\n",
    "**Output variable:**\n",
    "1) MEDV: Median value of owner-occupied homes in $1000's [k$]"
   ]
  },
  {
   "cell_type": "code",
   "execution_count": 2,
   "id": "c2d20d08",
   "metadata": {
    "execution": {
     "iopub.execute_input": "2023-01-31T15:09:32.652911Z",
     "iopub.status.busy": "2023-01-31T15:09:32.651914Z",
     "iopub.status.idle": "2023-01-31T15:09:32.679813Z",
     "shell.execute_reply": "2023-01-31T15:09:32.677981Z"
    },
    "papermill": {
     "duration": 0.036705,
     "end_time": "2023-01-31T15:09:32.682526",
     "exception": false,
     "start_time": "2023-01-31T15:09:32.645821",
     "status": "completed"
    },
    "tags": []
   },
   "outputs": [
    {
     "name": "stdout",
     "output_type": "stream",
     "text": [
      "<class 'pandas.core.frame.DataFrame'>\n",
      "RangeIndex: 506 entries, 0 to 505\n",
      "Data columns (total 14 columns):\n",
      " #   Column   Non-Null Count  Dtype  \n",
      "---  ------   --------------  -----  \n",
      " 0   CRIM     506 non-null    float64\n",
      " 1   ZN       506 non-null    float64\n",
      " 2   INDUS    506 non-null    float64\n",
      " 3   CHAS     506 non-null    int64  \n",
      " 4   NOX      506 non-null    float64\n",
      " 5   RM       506 non-null    float64\n",
      " 6   AGE      506 non-null    float64\n",
      " 7   DIS      506 non-null    float64\n",
      " 8   RAD      506 non-null    int64  \n",
      " 9   TAX      506 non-null    float64\n",
      " 10  PTRATIO  506 non-null    float64\n",
      " 11  B        506 non-null    float64\n",
      " 12  LSTAT    506 non-null    float64\n",
      " 13  MEDV     506 non-null    float64\n",
      "dtypes: float64(12), int64(2)\n",
      "memory usage: 55.5 KB\n"
     ]
    }
   ],
   "source": [
    "df.info()"
   ]
  },
  {
   "cell_type": "code",
   "execution_count": 3,
   "id": "feaa6e7b",
   "metadata": {
    "execution": {
     "iopub.execute_input": "2023-01-31T15:09:32.693749Z",
     "iopub.status.busy": "2023-01-31T15:09:32.693338Z",
     "iopub.status.idle": "2023-01-31T15:09:32.752456Z",
     "shell.execute_reply": "2023-01-31T15:09:32.751304Z"
    },
    "papermill": {
     "duration": 0.067725,
     "end_time": "2023-01-31T15:09:32.755102",
     "exception": false,
     "start_time": "2023-01-31T15:09:32.687377",
     "status": "completed"
    },
    "tags": []
   },
   "outputs": [
    {
     "data": {
      "text/html": [
       "<div>\n",
       "<style scoped>\n",
       "    .dataframe tbody tr th:only-of-type {\n",
       "        vertical-align: middle;\n",
       "    }\n",
       "\n",
       "    .dataframe tbody tr th {\n",
       "        vertical-align: top;\n",
       "    }\n",
       "\n",
       "    .dataframe thead th {\n",
       "        text-align: right;\n",
       "    }\n",
       "</style>\n",
       "<table border=\"1\" class=\"dataframe\">\n",
       "  <thead>\n",
       "    <tr style=\"text-align: right;\">\n",
       "      <th></th>\n",
       "      <th>CRIM</th>\n",
       "      <th>ZN</th>\n",
       "      <th>INDUS</th>\n",
       "      <th>CHAS</th>\n",
       "      <th>NOX</th>\n",
       "      <th>RM</th>\n",
       "      <th>AGE</th>\n",
       "      <th>DIS</th>\n",
       "      <th>RAD</th>\n",
       "      <th>TAX</th>\n",
       "      <th>PTRATIO</th>\n",
       "      <th>B</th>\n",
       "      <th>LSTAT</th>\n",
       "      <th>MEDV</th>\n",
       "    </tr>\n",
       "  </thead>\n",
       "  <tbody>\n",
       "    <tr>\n",
       "      <th>count</th>\n",
       "      <td>506.000000</td>\n",
       "      <td>506.000000</td>\n",
       "      <td>506.000000</td>\n",
       "      <td>506.000000</td>\n",
       "      <td>506.000000</td>\n",
       "      <td>506.000000</td>\n",
       "      <td>506.000000</td>\n",
       "      <td>506.000000</td>\n",
       "      <td>506.000000</td>\n",
       "      <td>506.000000</td>\n",
       "      <td>506.000000</td>\n",
       "      <td>506.000000</td>\n",
       "      <td>506.000000</td>\n",
       "      <td>506.000000</td>\n",
       "    </tr>\n",
       "    <tr>\n",
       "      <th>mean</th>\n",
       "      <td>3.613524</td>\n",
       "      <td>11.363636</td>\n",
       "      <td>11.136779</td>\n",
       "      <td>0.069170</td>\n",
       "      <td>0.554695</td>\n",
       "      <td>6.284634</td>\n",
       "      <td>68.574901</td>\n",
       "      <td>3.795043</td>\n",
       "      <td>9.549407</td>\n",
       "      <td>408.237154</td>\n",
       "      <td>18.455534</td>\n",
       "      <td>356.674032</td>\n",
       "      <td>12.653063</td>\n",
       "      <td>22.532806</td>\n",
       "    </tr>\n",
       "    <tr>\n",
       "      <th>std</th>\n",
       "      <td>8.601545</td>\n",
       "      <td>23.322453</td>\n",
       "      <td>6.860353</td>\n",
       "      <td>0.253994</td>\n",
       "      <td>0.115878</td>\n",
       "      <td>0.702617</td>\n",
       "      <td>28.148861</td>\n",
       "      <td>2.105710</td>\n",
       "      <td>8.707259</td>\n",
       "      <td>168.537116</td>\n",
       "      <td>2.164946</td>\n",
       "      <td>91.294864</td>\n",
       "      <td>7.141062</td>\n",
       "      <td>9.197104</td>\n",
       "    </tr>\n",
       "    <tr>\n",
       "      <th>min</th>\n",
       "      <td>0.006320</td>\n",
       "      <td>0.000000</td>\n",
       "      <td>0.460000</td>\n",
       "      <td>0.000000</td>\n",
       "      <td>0.385000</td>\n",
       "      <td>3.561000</td>\n",
       "      <td>2.900000</td>\n",
       "      <td>1.129600</td>\n",
       "      <td>1.000000</td>\n",
       "      <td>187.000000</td>\n",
       "      <td>12.600000</td>\n",
       "      <td>0.320000</td>\n",
       "      <td>1.730000</td>\n",
       "      <td>5.000000</td>\n",
       "    </tr>\n",
       "    <tr>\n",
       "      <th>25%</th>\n",
       "      <td>0.082045</td>\n",
       "      <td>0.000000</td>\n",
       "      <td>5.190000</td>\n",
       "      <td>0.000000</td>\n",
       "      <td>0.449000</td>\n",
       "      <td>5.885500</td>\n",
       "      <td>45.025000</td>\n",
       "      <td>2.100175</td>\n",
       "      <td>4.000000</td>\n",
       "      <td>279.000000</td>\n",
       "      <td>17.400000</td>\n",
       "      <td>375.377500</td>\n",
       "      <td>6.950000</td>\n",
       "      <td>17.025000</td>\n",
       "    </tr>\n",
       "    <tr>\n",
       "      <th>50%</th>\n",
       "      <td>0.256510</td>\n",
       "      <td>0.000000</td>\n",
       "      <td>9.690000</td>\n",
       "      <td>0.000000</td>\n",
       "      <td>0.538000</td>\n",
       "      <td>6.208500</td>\n",
       "      <td>77.500000</td>\n",
       "      <td>3.207450</td>\n",
       "      <td>5.000000</td>\n",
       "      <td>330.000000</td>\n",
       "      <td>19.050000</td>\n",
       "      <td>391.440000</td>\n",
       "      <td>11.360000</td>\n",
       "      <td>21.200000</td>\n",
       "    </tr>\n",
       "    <tr>\n",
       "      <th>75%</th>\n",
       "      <td>3.677083</td>\n",
       "      <td>12.500000</td>\n",
       "      <td>18.100000</td>\n",
       "      <td>0.000000</td>\n",
       "      <td>0.624000</td>\n",
       "      <td>6.623500</td>\n",
       "      <td>94.075000</td>\n",
       "      <td>5.188425</td>\n",
       "      <td>24.000000</td>\n",
       "      <td>666.000000</td>\n",
       "      <td>20.200000</td>\n",
       "      <td>396.225000</td>\n",
       "      <td>16.955000</td>\n",
       "      <td>25.000000</td>\n",
       "    </tr>\n",
       "    <tr>\n",
       "      <th>max</th>\n",
       "      <td>88.976200</td>\n",
       "      <td>100.000000</td>\n",
       "      <td>27.740000</td>\n",
       "      <td>1.000000</td>\n",
       "      <td>0.871000</td>\n",
       "      <td>8.780000</td>\n",
       "      <td>100.000000</td>\n",
       "      <td>12.126500</td>\n",
       "      <td>24.000000</td>\n",
       "      <td>711.000000</td>\n",
       "      <td>22.000000</td>\n",
       "      <td>396.900000</td>\n",
       "      <td>37.970000</td>\n",
       "      <td>50.000000</td>\n",
       "    </tr>\n",
       "  </tbody>\n",
       "</table>\n",
       "</div>"
      ],
      "text/plain": [
       "             CRIM          ZN       INDUS        CHAS         NOX          RM  \\\n",
       "count  506.000000  506.000000  506.000000  506.000000  506.000000  506.000000   \n",
       "mean     3.613524   11.363636   11.136779    0.069170    0.554695    6.284634   \n",
       "std      8.601545   23.322453    6.860353    0.253994    0.115878    0.702617   \n",
       "min      0.006320    0.000000    0.460000    0.000000    0.385000    3.561000   \n",
       "25%      0.082045    0.000000    5.190000    0.000000    0.449000    5.885500   \n",
       "50%      0.256510    0.000000    9.690000    0.000000    0.538000    6.208500   \n",
       "75%      3.677083   12.500000   18.100000    0.000000    0.624000    6.623500   \n",
       "max     88.976200  100.000000   27.740000    1.000000    0.871000    8.780000   \n",
       "\n",
       "              AGE         DIS         RAD         TAX     PTRATIO           B  \\\n",
       "count  506.000000  506.000000  506.000000  506.000000  506.000000  506.000000   \n",
       "mean    68.574901    3.795043    9.549407  408.237154   18.455534  356.674032   \n",
       "std     28.148861    2.105710    8.707259  168.537116    2.164946   91.294864   \n",
       "min      2.900000    1.129600    1.000000  187.000000   12.600000    0.320000   \n",
       "25%     45.025000    2.100175    4.000000  279.000000   17.400000  375.377500   \n",
       "50%     77.500000    3.207450    5.000000  330.000000   19.050000  391.440000   \n",
       "75%     94.075000    5.188425   24.000000  666.000000   20.200000  396.225000   \n",
       "max    100.000000   12.126500   24.000000  711.000000   22.000000  396.900000   \n",
       "\n",
       "            LSTAT        MEDV  \n",
       "count  506.000000  506.000000  \n",
       "mean    12.653063   22.532806  \n",
       "std      7.141062    9.197104  \n",
       "min      1.730000    5.000000  \n",
       "25%      6.950000   17.025000  \n",
       "50%     11.360000   21.200000  \n",
       "75%     16.955000   25.000000  \n",
       "max     37.970000   50.000000  "
      ]
     },
     "execution_count": 3,
     "metadata": {},
     "output_type": "execute_result"
    }
   ],
   "source": [
    "df.describe()"
   ]
  },
  {
   "cell_type": "markdown",
   "id": "cf429d28",
   "metadata": {
    "papermill": {
     "duration": 0.004959,
     "end_time": "2023-01-31T15:09:32.765322",
     "exception": false,
     "start_time": "2023-01-31T15:09:32.760363",
     "status": "completed"
    },
    "tags": []
   },
   "source": [
    "Our variables vary quite a lot so we definitely need to perform some form of feature scaling here. However, we'll just train a model without the feature scaling first."
   ]
  },
  {
   "cell_type": "code",
   "execution_count": 4,
   "id": "0f286a69",
   "metadata": {
    "execution": {
     "iopub.execute_input": "2023-01-31T15:09:32.777066Z",
     "iopub.status.busy": "2023-01-31T15:09:32.776650Z",
     "iopub.status.idle": "2023-01-31T15:09:33.176862Z",
     "shell.execute_reply": "2023-01-31T15:09:33.175639Z"
    },
    "papermill": {
     "duration": 0.408941,
     "end_time": "2023-01-31T15:09:33.179316",
     "exception": false,
     "start_time": "2023-01-31T15:09:32.770375",
     "status": "completed"
    },
    "tags": []
   },
   "outputs": [
    {
     "data": {
      "text/plain": [
       "<seaborn.axisgrid.FacetGrid at 0x7f7c32f44b10>"
      ]
     },
     "execution_count": 4,
     "metadata": {},
     "output_type": "execute_result"
    },
    {
     "data": {
      "text/plain": [
       "<Figure size 720x432 with 0 Axes>"
      ]
     },
     "metadata": {},
     "output_type": "display_data"
    },
    {
     "data": {
      "image/png": "[encoded data removed]",
      "text/plain": [
       "<Figure size 360x360 with 1 Axes>"
      ]
     },
     "metadata": {
      "needs_background": "light"
     },
     "output_type": "display_data"
    }
   ],
   "source": [
    "plt.figure(figsize=(10, 6))\n",
    "sns.displot(df['MEDV'])"
   ]
  },
  {
   "cell_type": "markdown",
   "id": "395b2f39",
   "metadata": {
    "papermill": {
     "duration": 0.005379,
     "end_time": "2023-01-31T15:09:33.190318",
     "exception": false,
     "start_time": "2023-01-31T15:09:33.184939",
     "status": "completed"
    },
    "tags": []
   },
   "source": [
    "The distribution for medv follows a normal distribution with a few outliers mostly around 50. "
   ]
  },
  {
   "cell_type": "markdown",
   "id": "7dfc08ab",
   "metadata": {
    "papermill": {
     "duration": 0.005264,
     "end_time": "2023-01-31T15:09:33.201283",
     "exception": false,
     "start_time": "2023-01-31T15:09:33.196019",
     "status": "completed"
    },
    "tags": []
   },
   "source": [
    "## **Prepare training and test data**"
   ]
  },
  {
   "cell_type": "code",
   "execution_count": 5,
   "id": "45eb098d",
   "metadata": {
    "execution": {
     "iopub.execute_input": "2023-01-31T15:09:33.214124Z",
     "iopub.status.busy": "2023-01-31T15:09:33.213715Z",
     "iopub.status.idle": "2023-01-31T15:09:33.219306Z",
     "shell.execute_reply": "2023-01-31T15:09:33.218384Z"
    },
    "papermill": {
     "duration": 0.014638,
     "end_time": "2023-01-31T15:09:33.221394",
     "exception": false,
     "start_time": "2023-01-31T15:09:33.206756",
     "status": "completed"
    },
    "tags": []
   },
   "outputs": [],
   "source": [
    "# features\n",
    "X = df.iloc[:,:-1]\n",
    "\n",
    "# labels\n",
    "target = df.iloc[:,-1]"
   ]
  },
  {
   "cell_type": "code",
   "execution_count": 6,
   "id": "8342e4e0",
   "metadata": {
    "execution": {
     "iopub.execute_input": "2023-01-31T15:09:33.234782Z",
     "iopub.status.busy": "2023-01-31T15:09:33.233877Z",
     "iopub.status.idle": "2023-01-31T15:09:33.240808Z",
     "shell.execute_reply": "2023-01-31T15:09:33.239642Z"
    },
    "papermill": {
     "duration": 0.016138,
     "end_time": "2023-01-31T15:09:33.243096",
     "exception": false,
     "start_time": "2023-01-31T15:09:33.226958",
     "status": "completed"
    },
    "tags": []
   },
   "outputs": [],
   "source": [
    "X_train, X_test, y_train, y_test = train_test_split(X, target, test_size=0.20, random_state=5)"
   ]
  },
  {
   "cell_type": "code",
   "execution_count": 7,
   "id": "082425d8",
   "metadata": {
    "execution": {
     "iopub.execute_input": "2023-01-31T15:09:33.255974Z",
     "iopub.status.busy": "2023-01-31T15:09:33.255530Z",
     "iopub.status.idle": "2023-01-31T15:09:33.267750Z",
     "shell.execute_reply": "2023-01-31T15:09:33.266583Z"
    },
    "papermill": {
     "duration": 0.021429,
     "end_time": "2023-01-31T15:09:33.270087",
     "exception": false,
     "start_time": "2023-01-31T15:09:33.248658",
     "status": "completed"
    },
    "tags": []
   },
   "outputs": [
    {
     "data": {
      "text/plain": [
       "array([0.      , 0.      , 0.      , 0.000995, 0.      , 0.      ,\n",
       "       0.      , 0.      , 0.      , 0.      , 0.      , 0.      ,\n",
       "       0.      ])"
      ]
     },
     "execution_count": 7,
     "metadata": {},
     "output_type": "execute_result"
    }
   ],
   "source": [
    "# calculating p values of each feature.\n",
    "f = f_regression(X_train,y_train)[1]\n",
    "f.round(6)"
   ]
  },
  {
   "cell_type": "code",
   "execution_count": 8,
   "id": "38e12807",
   "metadata": {
    "execution": {
     "iopub.execute_input": "2023-01-31T15:09:33.283749Z",
     "iopub.status.busy": "2023-01-31T15:09:33.282904Z",
     "iopub.status.idle": "2023-01-31T15:09:33.386846Z",
     "shell.execute_reply": "2023-01-31T15:09:33.385485Z"
    },
    "papermill": {
     "duration": 0.113464,
     "end_time": "2023-01-31T15:09:33.389336",
     "exception": false,
     "start_time": "2023-01-31T15:09:33.275872",
     "status": "completed"
    },
    "tags": []
   },
   "outputs": [
    {
     "name": "stdout",
     "output_type": "stream",
     "text": [
      "R-squared score for initial model 0.74\n",
      "Adjusted R-squared score for initial model 0.7313333333333334\n",
      "------------------------------------------------------------------------\n",
      "Coefficients for initial model [-1.30799852e-01  4.94030235e-02  1.09535045e-03  2.70536624e+00\n",
      " -1.59570504e+01  3.41397332e+00  1.11887670e-03 -1.49308124e+00\n",
      "  3.64422378e-01 -1.31718155e-02 -9.52369666e-01  1.17492092e-02\n",
      " -5.94076089e-01]\n",
      "Bias for scaled model 37.91248700975004\n"
     ]
    }
   ],
   "source": [
    "model = LinearRegression()\n",
    "\n",
    "model.fit(X_train,y_train)\n",
    "\n",
    "# r-squared score\n",
    "r_sq = round(model.score(X_train,y_train),2)\n",
    "print(f\"R-squared score for initial model {r_sq}\")\n",
    "adj_r = 1 - ( 1- r_sq ) * ( len(y_train) - 1 ) / ( len(y_train) - X_train.shape[1] - 1 )\n",
    "print(f\"Adjusted R-squared score for initial model {adj_r}\")\n",
    "\n",
    "print(\"------------------------------------------------------------------------\")\n",
    "# coefficients\n",
    "coef = model.coef_\n",
    "print(f\"Coefficients for initial model {coef}\")\n",
    "\n",
    "b = model.intercept_\n",
    "print(f\"Bias for scaled model {b}\")"
   ]
  },
  {
   "cell_type": "code",
   "execution_count": 9,
   "id": "74f3d95c",
   "metadata": {
    "execution": {
     "iopub.execute_input": "2023-01-31T15:09:33.402747Z",
     "iopub.status.busy": "2023-01-31T15:09:33.401982Z",
     "iopub.status.idle": "2023-01-31T15:09:33.655578Z",
     "shell.execute_reply": "2023-01-31T15:09:33.654488Z"
    },
    "papermill": {
     "duration": 0.262832,
     "end_time": "2023-01-31T15:09:33.657904",
     "exception": false,
     "start_time": "2023-01-31T15:09:33.395072",
     "status": "completed"
    },
    "tags": []
   },
   "outputs": [
    {
     "data": {
      "text/plain": [
       "Text(0.5, 1.0, 'Actual Prices vs Predicted prices')"
      ]
     },
     "execution_count": 9,
     "metadata": {},
     "output_type": "execute_result"
    },
    {
     "data": {
      "image/png": "[encoded data removed]",
      "text/plain": [
       "<Figure size 432x288 with 1 Axes>"
      ]
     },
     "metadata": {
      "needs_background": "light"
     },
     "output_type": "display_data"
    }
   ],
   "source": [
    "y_pred = model.predict(X_test)\n",
    "\n",
    "# LETS PLOT!\n",
    "plt.scatter(y_test, y_pred)\n",
    "plt.xlabel(\"Actual House Prices ($1000)\")\n",
    "plt.ylabel(\"Predicted House Prices: ($1000)\")\n",
    "plt.title(\"Actual Prices vs Predicted prices\")"
   ]
  },
  {
   "cell_type": "markdown",
   "id": "b5f98885",
   "metadata": {
    "papermill": {
     "duration": 0.006048,
     "end_time": "2023-01-31T15:09:33.670010",
     "exception": false,
     "start_time": "2023-01-31T15:09:33.663962",
     "status": "completed"
    },
    "tags": []
   },
   "source": [
    "## Model with feature scaling\n",
    "\n",
    "There are many scaling methods. We'll use the standard scaler for this project which standardizes features by removing the mean and scales to unit variance"
   ]
  },
  {
   "cell_type": "code",
   "execution_count": 10,
   "id": "e4847bad",
   "metadata": {
    "execution": {
     "iopub.execute_input": "2023-01-31T15:09:33.685042Z",
     "iopub.status.busy": "2023-01-31T15:09:33.683721Z",
     "iopub.status.idle": "2023-01-31T15:09:33.695635Z",
     "shell.execute_reply": "2023-01-31T15:09:33.694471Z"
    },
    "papermill": {
     "duration": 0.022036,
     "end_time": "2023-01-31T15:09:33.698287",
     "exception": false,
     "start_time": "2023-01-31T15:09:33.676251",
     "status": "completed"
    },
    "tags": []
   },
   "outputs": [],
   "source": [
    "sc = StandardScaler().fit(X_train)\n",
    "\n",
    "#  use only the training set to figure out how to scale / normalize\n",
    "X_train_scaled = sc.transform(X_train)\n",
    "\n",
    "# then blindly apply the same transform to the test set\n",
    "X_test_scaled = sc.transform(X_test)"
   ]
  },
  {
   "cell_type": "code",
   "execution_count": 11,
   "id": "29c5a02d",
   "metadata": {
    "execution": {
     "iopub.execute_input": "2023-01-31T15:09:33.712365Z",
     "iopub.status.busy": "2023-01-31T15:09:33.711949Z",
     "iopub.status.idle": "2023-01-31T15:09:33.722403Z",
     "shell.execute_reply": "2023-01-31T15:09:33.721198Z"
    },
    "papermill": {
     "duration": 0.02079,
     "end_time": "2023-01-31T15:09:33.725415",
     "exception": false,
     "start_time": "2023-01-31T15:09:33.704625",
     "status": "completed"
    },
    "tags": []
   },
   "outputs": [
    {
     "name": "stdout",
     "output_type": "stream",
     "text": [
      "R-squared score for scaled model 0.74\n",
      "Adjusted R-squared score for scaled model 0.7313333333333334\n",
      "---------------------------------------------------------------------------------------\n",
      "Coefficients for scaled model [-1.13502719  1.15814527  0.00737057  0.68709635 -1.82837001  2.36271879\n",
      "  0.03166538 -3.06632775  3.16621482 -2.21457852 -2.08600876  1.0449511\n",
      " -4.17627077]\n",
      "Bias for scaled model 22.646782178217823\n"
     ]
    }
   ],
   "source": [
    "model_2 = LinearRegression()\n",
    "\n",
    "model_2.fit(X_train_scaled,y_train)\n",
    "\n",
    "# r-squared score\n",
    "r_sq = round(model_2.score(X_train_scaled,y_train),2)\n",
    "print(f\"R-squared score for scaled model {r_sq}\")\n",
    "adj_r = 1 - ( 1- r_sq ) * ( len(y_train) - 1 ) / ( len(y_train) - X_train_scaled.shape[1] - 1 )\n",
    "print(f\"Adjusted R-squared score for scaled model {adj_r}\")\n",
    "\n",
    "print(\"---------------------------------------------------------------------------------------\")\n",
    "# coefficients\n",
    "coef = model_2.coef_\n",
    "print(f\"Coefficients for scaled model {coef}\")\n",
    "\n",
    "b = model_2.intercept_\n",
    "print(f\"Bias for scaled model {b}\")"
   ]
  },
  {
   "cell_type": "markdown",
   "id": "f4c03b5c",
   "metadata": {
    "papermill": {
     "duration": 0.005909,
     "end_time": "2023-01-31T15:09:33.737952",
     "exception": false,
     "start_time": "2023-01-31T15:09:33.732043",
     "status": "completed"
    },
    "tags": []
   },
   "source": []
  },
  {
   "cell_type": "code",
   "execution_count": 12,
   "id": "1c11df05",
   "metadata": {
    "execution": {
     "iopub.execute_input": "2023-01-31T15:09:33.752454Z",
     "iopub.status.busy": "2023-01-31T15:09:33.751225Z",
     "iopub.status.idle": "2023-01-31T15:09:33.978494Z",
     "shell.execute_reply": "2023-01-31T15:09:33.977297Z"
    },
    "papermill": {
     "duration": 0.237043,
     "end_time": "2023-01-31T15:09:33.981075",
     "exception": false,
     "start_time": "2023-01-31T15:09:33.744032",
     "status": "completed"
    },
    "tags": []
   },
   "outputs": [
    {
     "data": {
      "text/plain": [
       "Text(0.5, 1.0, 'Actual Prices vs Predicted prices')"
      ]
     },
     "execution_count": 12,
     "metadata": {},
     "output_type": "execute_result"
    },
    {
     "data": {
      "image/png": "[encoded data removed]",
      "text/plain": [
       "<Figure size 432x288 with 1 Axes>"
      ]
     },
     "metadata": {
      "needs_background": "light"
     },
     "output_type": "display_data"
    }
   ],
   "source": [
    "y_pred = model_2.predict(X_test_scaled)\n",
    "\n",
    "# LETS PLOT!\n",
    "plt.scatter(y_test, y_pred)\n",
    "plt.xlabel(\"Actual House Prices ($1000)\")\n",
    "plt.ylabel(\"Predicted House Prices: ($1000)\")\n",
    "plt.title(\"Actual Prices vs Predicted prices\")"
   ]
  }
 ],
 "metadata": {
  "kernelspec": {
   "display_name": "Python 3",
   "language": "python",
   "name": "python3"
  },
  "language_info": {
   "codemirror_mode": {
    "name": "ipython",
    "version": 3
   },
   "file_extension": ".py",
   "mimetype": "text/x-python",
   "name": "python",
   "nbconvert_exporter": "python",
   "pygments_lexer": "ipython3",
   "version": "3.7.12"
  },
  "papermill": {
   "default_parameters": {},
   "duration": 12.299602,
   "end_time": "2023-01-31T15:09:34.811438",
   "environment_variables": {},
   "exception": null,
   "input_path": "__notebook__.ipynb",
   "output_path": "__notebook__.ipynb",
   "parameters": {},
   "start_time": "2023-01-31T15:09:22.511836",
   "version": "2.3.4"
  }
 },
 "nbformat": 4,
 "nbformat_minor": 5
}
