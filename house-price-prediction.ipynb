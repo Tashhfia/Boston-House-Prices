{
 "cells": [
  {
   "cell_type": "code",
   "execution_count": 1,
   "id": "42b95550",
   "metadata": {
    "_cell_guid": "b1076dfc-b9ad-4769-8c92-a6c4dae69d19",
    "_uuid": "8f2839f25d086af736a60e9eeb907d3b93b6e0e5",
    "execution": {
     "iopub.execute_input": "2023-02-01T15:07:21.236666Z",
     "iopub.status.busy": "2023-02-01T15:07:21.236248Z",
     "iopub.status.idle": "2023-02-01T15:07:22.733541Z",
     "shell.execute_reply": "2023-02-01T15:07:22.731979Z"
    },
    "papermill": {
     "duration": 1.507526,
     "end_time": "2023-02-01T15:07:22.736667",
     "exception": false,
     "start_time": "2023-02-01T15:07:21.229141",
     "status": "completed"
    },
    "tags": []
   },
   "outputs": [
    {
     "name": "stdout",
     "output_type": "stream",
     "text": [
      "/kaggle/input/the-boston-houseprice-data/boston.csv\n"
     ]
    }
   ],
   "source": [
    "import numpy as np \n",
    "import pandas as pd \n",
    "\n",
    "import seaborn as sns\n",
    "import matplotlib.pyplot as plt\n",
    "sns.set()\n",
    "\n",
    "from sklearn.model_selection import train_test_split\n",
    "from sklearn.linear_model import LinearRegression\n",
    "from sklearn.feature_selection import f_regression\n",
    "from sklearn.preprocessing import StandardScaler\n",
    "\n",
    "#To plot the graph embedded in the notebook\n",
    "%matplotlib inline\n",
    "\n",
    "import os\n",
    "for dirname, _, filenames in os.walk('/kaggle/input'):\n",
    "    for filename in filenames:\n",
    "        print(os.path.join(dirname, filename))\n",
    "        df = pd.read_csv(os.path.join(dirname, filename))"
   ]
  },
  {
   "cell_type": "markdown",
   "id": "673a73c7",
   "metadata": {
    "papermill": {
     "duration": 0.004578,
     "end_time": "2023-02-01T15:07:22.746676",
     "exception": false,
     "start_time": "2023-02-01T15:07:22.742098",
     "status": "completed"
    },
    "tags": []
   },
   "source": [
    "**Input features in order:**\n",
    "1) CRIM: per capita crime rate by town <br>\n",
    "2) ZN: proportion of residential land zoned for lots over 25,000 sq.ft.<br>\n",
    "3) INDUS: proportion of non-retail business acres per town<br>\n",
    "4) CHAS: Charles River dummy variable (1 if tract bounds river; 0 otherwise)<br>\n",
    "5) NOX: nitric oxides concentration (parts per 10 million) [parts/10M]<br>\n",
    "6) RM: average number of rooms per dwelling<br>\n",
    "7) AGE: proportion of owner-occupied units built prior to 1940<br>\n",
    "8) DIS: weighted distances to five Boston employment centres<br>\n",
    "9) RAD: index of accessibility to radial highways<br>\n",
    "10) TAX: full-value property-tax rate per $10,000 [$/10k]<br>\n",
    "11) PTRATIO: pupil-teacher ratio by town<br>\n",
    "12) B: The result of the equation B=1000(Bk - 0.63)^2 where Bk is the proportion of blacks by town<br>\n",
    "13) LSTAT: % lower status of the population<br>\n",
    "\n",
    "**Output variable:**\n",
    "1) MEDV: Median value of owner-occupied homes in $1000's [k$]"
   ]
  },
  {
   "cell_type": "code",
   "execution_count": 2,
   "id": "8b5b5c85",
   "metadata": {
    "execution": {
     "iopub.execute_input": "2023-02-01T15:07:22.758351Z",
     "iopub.status.busy": "2023-02-01T15:07:22.757794Z",
     "iopub.status.idle": "2023-02-01T15:07:22.785411Z",
     "shell.execute_reply": "2023-02-01T15:07:22.784453Z"
    },
    "papermill": {
     "duration": 0.036747,
     "end_time": "2023-02-01T15:07:22.788233",
     "exception": false,
     "start_time": "2023-02-01T15:07:22.751486",
     "status": "completed"
    },
    "tags": []
   },
   "outputs": [
    {
     "name": "stdout",
     "output_type": "stream",
     "text": [
      "<class 'pandas.core.frame.DataFrame'>\n",
      "RangeIndex: 506 entries, 0 to 505\n",
      "Data columns (total 14 columns):\n",
      " #   Column   Non-Null Count  Dtype  \n",
      "---  ------   --------------  -----  \n",
      " 0   CRIM     506 non-null    float64\n",
      " 1   ZN       506 non-null    float64\n",
      " 2   INDUS    506 non-null    float64\n",
      " 3   CHAS     506 non-null    int64  \n",
      " 4   NOX      506 non-null    float64\n",
      " 5   RM       506 non-null    float64\n",
      " 6   AGE      506 non-null    float64\n",
      " 7   DIS      506 non-null    float64\n",
      " 8   RAD      506 non-null    int64  \n",
      " 9   TAX      506 non-null    float64\n",
      " 10  PTRATIO  506 non-null    float64\n",
      " 11  B        506 non-null    float64\n",
      " 12  LSTAT    506 non-null    float64\n",
      " 13  MEDV     506 non-null    float64\n",
      "dtypes: float64(12), int64(2)\n",
      "memory usage: 55.5 KB\n"
     ]
    }
   ],
   "source": [
    "df.info()"
   ]
  },
  {
   "cell_type": "code",
   "execution_count": 3,
   "id": "e422a982",
   "metadata": {
    "execution": {
     "iopub.execute_input": "2023-02-01T15:07:22.802728Z",
     "iopub.status.busy": "2023-02-01T15:07:22.801981Z",
     "iopub.status.idle": "2023-02-01T15:07:22.855776Z",
     "shell.execute_reply": "2023-02-01T15:07:22.854245Z"
    },
    "papermill": {
     "duration": 0.064062,
     "end_time": "2023-02-01T15:07:22.858628",
     "exception": false,
     "start_time": "2023-02-01T15:07:22.794566",
     "status": "completed"
    },
    "tags": []
   },
   "outputs": [
    {
     "data": {
      "text/html": [
       "<div>\n",
       "<style scoped>\n",
       "    .dataframe tbody tr th:only-of-type {\n",
       "        vertical-align: middle;\n",
       "    }\n",
       "\n",
       "    .dataframe tbody tr th {\n",
       "        vertical-align: top;\n",
       "    }\n",
       "\n",
       "    .dataframe thead th {\n",
       "        text-align: right;\n",
       "    }\n",
       "</style>\n",
       "<table border=\"1\" class=\"dataframe\">\n",
       "  <thead>\n",
       "    <tr style=\"text-align: right;\">\n",
       "      <th></th>\n",
       "      <th>CRIM</th>\n",
       "      <th>ZN</th>\n",
       "      <th>INDUS</th>\n",
       "      <th>CHAS</th>\n",
       "      <th>NOX</th>\n",
       "      <th>RM</th>\n",
       "      <th>AGE</th>\n",
       "      <th>DIS</th>\n",
       "      <th>RAD</th>\n",
       "      <th>TAX</th>\n",
       "      <th>PTRATIO</th>\n",
       "      <th>B</th>\n",
       "      <th>LSTAT</th>\n",
       "      <th>MEDV</th>\n",
       "    </tr>\n",
       "  </thead>\n",
       "  <tbody>\n",
       "    <tr>\n",
       "      <th>count</th>\n",
       "      <td>506.000000</td>\n",
       "      <td>506.000000</td>\n",
       "      <td>506.000000</td>\n",
       "      <td>506.000000</td>\n",
       "      <td>506.000000</td>\n",
       "      <td>506.000000</td>\n",
       "      <td>506.000000</td>\n",
       "      <td>506.000000</td>\n",
       "      <td>506.000000</td>\n",
       "      <td>506.000000</td>\n",
       "      <td>506.000000</td>\n",
       "      <td>506.000000</td>\n",
       "      <td>506.000000</td>\n",
       "      <td>506.000000</td>\n",
       "    </tr>\n",
       "    <tr>\n",
       "      <th>mean</th>\n",
       "      <td>3.613524</td>\n",
       "      <td>11.363636</td>\n",
       "      <td>11.136779</td>\n",
       "      <td>0.069170</td>\n",
       "      <td>0.554695</td>\n",
       "      <td>6.284634</td>\n",
       "      <td>68.574901</td>\n",
       "      <td>3.795043</td>\n",
       "      <td>9.549407</td>\n",
       "      <td>408.237154</td>\n",
       "      <td>18.455534</td>\n",
       "      <td>356.674032</td>\n",
       "      <td>12.653063</td>\n",
       "      <td>22.532806</td>\n",
       "    </tr>\n",
       "    <tr>\n",
       "      <th>std</th>\n",
       "      <td>8.601545</td>\n",
       "      <td>23.322453</td>\n",
       "      <td>6.860353</td>\n",
       "      <td>0.253994</td>\n",
       "      <td>0.115878</td>\n",
       "      <td>0.702617</td>\n",
       "      <td>28.148861</td>\n",
       "      <td>2.105710</td>\n",
       "      <td>8.707259</td>\n",
       "      <td>168.537116</td>\n",
       "      <td>2.164946</td>\n",
       "      <td>91.294864</td>\n",
       "      <td>7.141062</td>\n",
       "      <td>9.197104</td>\n",
       "    </tr>\n",
       "    <tr>\n",
       "      <th>min</th>\n",
       "      <td>0.006320</td>\n",
       "      <td>0.000000</td>\n",
       "      <td>0.460000</td>\n",
       "      <td>0.000000</td>\n",
       "      <td>0.385000</td>\n",
       "      <td>3.561000</td>\n",
       "      <td>2.900000</td>\n",
       "      <td>1.129600</td>\n",
       "      <td>1.000000</td>\n",
       "      <td>187.000000</td>\n",
       "      <td>12.600000</td>\n",
       "      <td>0.320000</td>\n",
       "      <td>1.730000</td>\n",
       "      <td>5.000000</td>\n",
       "    </tr>\n",
       "    <tr>\n",
       "      <th>25%</th>\n",
       "      <td>0.082045</td>\n",
       "      <td>0.000000</td>\n",
       "      <td>5.190000</td>\n",
       "      <td>0.000000</td>\n",
       "      <td>0.449000</td>\n",
       "      <td>5.885500</td>\n",
       "      <td>45.025000</td>\n",
       "      <td>2.100175</td>\n",
       "      <td>4.000000</td>\n",
       "      <td>279.000000</td>\n",
       "      <td>17.400000</td>\n",
       "      <td>375.377500</td>\n",
       "      <td>6.950000</td>\n",
       "      <td>17.025000</td>\n",
       "    </tr>\n",
       "    <tr>\n",
       "      <th>50%</th>\n",
       "      <td>0.256510</td>\n",
       "      <td>0.000000</td>\n",
       "      <td>9.690000</td>\n",
       "      <td>0.000000</td>\n",
       "      <td>0.538000</td>\n",
       "      <td>6.208500</td>\n",
       "      <td>77.500000</td>\n",
       "      <td>3.207450</td>\n",
       "      <td>5.000000</td>\n",
       "      <td>330.000000</td>\n",
       "      <td>19.050000</td>\n",
       "      <td>391.440000</td>\n",
       "      <td>11.360000</td>\n",
       "      <td>21.200000</td>\n",
       "    </tr>\n",
       "    <tr>\n",
       "      <th>75%</th>\n",
       "      <td>3.677083</td>\n",
       "      <td>12.500000</td>\n",
       "      <td>18.100000</td>\n",
       "      <td>0.000000</td>\n",
       "      <td>0.624000</td>\n",
       "      <td>6.623500</td>\n",
       "      <td>94.075000</td>\n",
       "      <td>5.188425</td>\n",
       "      <td>24.000000</td>\n",
       "      <td>666.000000</td>\n",
       "      <td>20.200000</td>\n",
       "      <td>396.225000</td>\n",
       "      <td>16.955000</td>\n",
       "      <td>25.000000</td>\n",
       "    </tr>\n",
       "    <tr>\n",
       "      <th>max</th>\n",
       "      <td>88.976200</td>\n",
       "      <td>100.000000</td>\n",
       "      <td>27.740000</td>\n",
       "      <td>1.000000</td>\n",
       "      <td>0.871000</td>\n",
       "      <td>8.780000</td>\n",
       "      <td>100.000000</td>\n",
       "      <td>12.126500</td>\n",
       "      <td>24.000000</td>\n",
       "      <td>711.000000</td>\n",
       "      <td>22.000000</td>\n",
       "      <td>396.900000</td>\n",
       "      <td>37.970000</td>\n",
       "      <td>50.000000</td>\n",
       "    </tr>\n",
       "  </tbody>\n",
       "</table>\n",
       "</div>"
      ],
      "text/plain": [
       "             CRIM          ZN       INDUS        CHAS         NOX          RM  \\\n",
       "count  506.000000  506.000000  506.000000  506.000000  506.000000  506.000000   \n",
       "mean     3.613524   11.363636   11.136779    0.069170    0.554695    6.284634   \n",
       "std      8.601545   23.322453    6.860353    0.253994    0.115878    0.702617   \n",
       "min      0.006320    0.000000    0.460000    0.000000    0.385000    3.561000   \n",
       "25%      0.082045    0.000000    5.190000    0.000000    0.449000    5.885500   \n",
       "50%      0.256510    0.000000    9.690000    0.000000    0.538000    6.208500   \n",
       "75%      3.677083   12.500000   18.100000    0.000000    0.624000    6.623500   \n",
       "max     88.976200  100.000000   27.740000    1.000000    0.871000    8.780000   \n",
       "\n",
       "              AGE         DIS         RAD         TAX     PTRATIO           B  \\\n",
       "count  506.000000  506.000000  506.000000  506.000000  506.000000  506.000000   \n",
       "mean    68.574901    3.795043    9.549407  408.237154   18.455534  356.674032   \n",
       "std     28.148861    2.105710    8.707259  168.537116    2.164946   91.294864   \n",
       "min      2.900000    1.129600    1.000000  187.000000   12.600000    0.320000   \n",
       "25%     45.025000    2.100175    4.000000  279.000000   17.400000  375.377500   \n",
       "50%     77.500000    3.207450    5.000000  330.000000   19.050000  391.440000   \n",
       "75%     94.075000    5.188425   24.000000  666.000000   20.200000  396.225000   \n",
       "max    100.000000   12.126500   24.000000  711.000000   22.000000  396.900000   \n",
       "\n",
       "            LSTAT        MEDV  \n",
       "count  506.000000  506.000000  \n",
       "mean    12.653063   22.532806  \n",
       "std      7.141062    9.197104  \n",
       "min      1.730000    5.000000  \n",
       "25%      6.950000   17.025000  \n",
       "50%     11.360000   21.200000  \n",
       "75%     16.955000   25.000000  \n",
       "max     37.970000   50.000000  "
      ]
     },
     "execution_count": 3,
     "metadata": {},
     "output_type": "execute_result"
    }
   ],
   "source": [
    "df.describe()"
   ]
  },
  {
   "cell_type": "markdown",
   "id": "07ec3f5c",
   "metadata": {
    "papermill": {
     "duration": 0.00501,
     "end_time": "2023-02-01T15:07:22.869946",
     "exception": false,
     "start_time": "2023-02-01T15:07:22.864936",
     "status": "completed"
    },
    "tags": []
   },
   "source": [
    "Our variables vary quite a lot so we definitely need to perform some form of feature scaling here. However, we'll just train a model without the feature scaling first."
   ]
  },
  {
   "cell_type": "code",
   "execution_count": 4,
   "id": "e51818eb",
   "metadata": {
    "execution": {
     "iopub.execute_input": "2023-02-01T15:07:22.882787Z",
     "iopub.status.busy": "2023-02-01T15:07:22.882388Z",
     "iopub.status.idle": "2023-02-01T15:07:23.210168Z",
     "shell.execute_reply": "2023-02-01T15:07:23.209437Z"
    },
    "papermill": {
     "duration": 0.336244,
     "end_time": "2023-02-01T15:07:23.212179",
     "exception": false,
     "start_time": "2023-02-01T15:07:22.875935",
     "status": "completed"
    },
    "tags": []
   },
   "outputs": [
    {
     "data": {
      "text/plain": [
       "<seaborn.axisgrid.FacetGrid at 0x7f9efec48e90>"
      ]
     },
     "execution_count": 4,
     "metadata": {},
     "output_type": "execute_result"
    },
    {
     "data": {
      "text/plain": [
       "<Figure size 720x432 with 0 Axes>"
      ]
     },
     "metadata": {},
     "output_type": "display_data"
    },
    {
     "data": {
      "image/png": "[encoded data removed]",
      "text/plain": [
       "<Figure size 360x360 with 1 Axes>"
      ]
     },
     "metadata": {
      "needs_background": "light"
     },
     "output_type": "display_data"
    }
   ],
   "source": [
    "plt.figure(figsize=(10, 6))\n",
    "sns.displot(df['MEDV'])"
   ]
  },
  {
   "cell_type": "markdown",
   "id": "851ccbed",
   "metadata": {
    "papermill": {
     "duration": 0.005185,
     "end_time": "2023-02-01T15:07:23.222988",
     "exception": false,
     "start_time": "2023-02-01T15:07:23.217803",
     "status": "completed"
    },
    "tags": []
   },
   "source": [
    "The distribution for medv follows a normal distribution with a few outliers mostly around 50. "
   ]
  },
  {
   "cell_type": "markdown",
   "id": "1cc0d92c",
   "metadata": {
    "papermill": {
     "duration": 0.005331,
     "end_time": "2023-02-01T15:07:23.233794",
     "exception": false,
     "start_time": "2023-02-01T15:07:23.228463",
     "status": "completed"
    },
    "tags": []
   },
   "source": [
    "## **Prepare training and test data**"
   ]
  },
  {
   "cell_type": "code",
   "execution_count": 5,
   "id": "2c113ad5",
   "metadata": {
    "execution": {
     "iopub.execute_input": "2023-02-01T15:07:23.247000Z",
     "iopub.status.busy": "2023-02-01T15:07:23.246601Z",
     "iopub.status.idle": "2023-02-01T15:07:23.253041Z",
     "shell.execute_reply": "2023-02-01T15:07:23.251808Z"
    },
    "papermill": {
     "duration": 0.015314,
     "end_time": "2023-02-01T15:07:23.255403",
     "exception": false,
     "start_time": "2023-02-01T15:07:23.240089",
     "status": "completed"
    },
    "tags": []
   },
   "outputs": [],
   "source": [
    "# features\n",
    "X = df.iloc[:,:-1]\n",
    "\n",
    "# labels\n",
    "target = df.iloc[:,-1]"
   ]
  },
  {
   "cell_type": "code",
   "execution_count": 6,
   "id": "0f2adc98",
   "metadata": {
    "execution": {
     "iopub.execute_input": "2023-02-01T15:07:23.268491Z",
     "iopub.status.busy": "2023-02-01T15:07:23.268112Z",
     "iopub.status.idle": "2023-02-01T15:07:23.274097Z",
     "shell.execute_reply": "2023-02-01T15:07:23.273084Z"
    },
    "papermill": {
     "duration": 0.014936,
     "end_time": "2023-02-01T15:07:23.275979",
     "exception": false,
     "start_time": "2023-02-01T15:07:23.261043",
     "status": "completed"
    },
    "tags": []
   },
   "outputs": [],
   "source": [
    "X_train, X_test, y_train, y_test = train_test_split(X, target, test_size=0.20, random_state=5)"
   ]
  },
  {
   "cell_type": "code",
   "execution_count": 7,
   "id": "c5c34a1d",
   "metadata": {
    "execution": {
     "iopub.execute_input": "2023-02-01T15:07:23.288766Z",
     "iopub.status.busy": "2023-02-01T15:07:23.288376Z",
     "iopub.status.idle": "2023-02-01T15:07:23.301541Z",
     "shell.execute_reply": "2023-02-01T15:07:23.300334Z"
    },
    "papermill": {
     "duration": 0.021997,
     "end_time": "2023-02-01T15:07:23.303667",
     "exception": false,
     "start_time": "2023-02-01T15:07:23.281670",
     "status": "completed"
    },
    "tags": []
   },
   "outputs": [
    {
     "data": {
      "text/plain": [
       "array([0.      , 0.      , 0.      , 0.000995, 0.      , 0.      ,\n",
       "       0.      , 0.      , 0.      , 0.      , 0.      , 0.      ,\n",
       "       0.      ])"
      ]
     },
     "execution_count": 7,
     "metadata": {},
     "output_type": "execute_result"
    }
   ],
   "source": [
    "# calculating p values of each feature.\n",
    "f = f_regression(X_train,y_train)[1]\n",
    "f.round(6)"
   ]
  },
  {
   "cell_type": "code",
   "execution_count": 8,
   "id": "6ae1e18d",
   "metadata": {
    "execution": {
     "iopub.execute_input": "2023-02-01T15:07:23.317197Z",
     "iopub.status.busy": "2023-02-01T15:07:23.315935Z",
     "iopub.status.idle": "2023-02-01T15:07:23.343772Z",
     "shell.execute_reply": "2023-02-01T15:07:23.342497Z"
    },
    "papermill": {
     "duration": 0.03677,
     "end_time": "2023-02-01T15:07:23.346040",
     "exception": false,
     "start_time": "2023-02-01T15:07:23.309270",
     "status": "completed"
    },
    "tags": []
   },
   "outputs": [
    {
     "name": "stdout",
     "output_type": "stream",
     "text": [
      "R-squared score for initial model 0.74\n",
      "Adjusted R-squared score for initial model 0.7313333333333334\n",
      "------------------------------------------------------------------------\n",
      "Coefficients for initial model [-1.30799852e-01  4.94030235e-02  1.09535045e-03  2.70536624e+00\n",
      " -1.59570504e+01  3.41397332e+00  1.11887670e-03 -1.49308124e+00\n",
      "  3.64422378e-01 -1.31718155e-02 -9.52369666e-01  1.17492092e-02\n",
      " -5.94076089e-01]\n",
      "Bias for scaled model 37.91248700975004\n"
     ]
    }
   ],
   "source": [
    "model = LinearRegression()\n",
    "\n",
    "model.fit(X_train,y_train)\n",
    "\n",
    "# r-squared score\n",
    "r_sq = round(model.score(X_train,y_train),2)\n",
    "print(f\"R-squared score for initial model {r_sq}\")\n",
    "adj_r = 1 - ( 1- r_sq ) * ( len(y_train) - 1 ) / ( len(y_train) - X_train.shape[1] - 1 )\n",
    "print(f\"Adjusted R-squared score for initial model {adj_r}\")\n",
    "\n",
    "print(\"------------------------------------------------------------------------\")\n",
    "# coefficients\n",
    "coef = model.coef_\n",
    "print(f\"Coefficients for initial model {coef}\")\n",
    "\n",
    "b = model.intercept_\n",
    "print(f\"Bias for scaled model {b}\")"
   ]
  },
  {
   "cell_type": "code",
   "execution_count": 9,
   "id": "f4c7f6f5",
   "metadata": {
    "execution": {
     "iopub.execute_input": "2023-02-01T15:07:23.359019Z",
     "iopub.status.busy": "2023-02-01T15:07:23.358671Z",
     "iopub.status.idle": "2023-02-01T15:07:23.553748Z",
     "shell.execute_reply": "2023-02-01T15:07:23.552528Z"
    },
    "papermill": {
     "duration": 0.204234,
     "end_time": "2023-02-01T15:07:23.555908",
     "exception": false,
     "start_time": "2023-02-01T15:07:23.351674",
     "status": "completed"
    },
    "tags": []
   },
   "outputs": [
    {
     "data": {
      "text/plain": [
       "Text(0.5, 1.0, 'Actual Prices vs Predicted prices')"
      ]
     },
     "execution_count": 9,
     "metadata": {},
     "output_type": "execute_result"
    },
    {
     "data": {
      "image/png": "[encoded data removed]",
      "text/plain": [
       "<Figure size 432x288 with 1 Axes>"
      ]
     },
     "metadata": {
      "needs_background": "light"
     },
     "output_type": "display_data"
    }
   ],
   "source": [
    "y_pred = model.predict(X_test)\n",
    "\n",
    "# LETS PLOT!\n",
    "plt.scatter(y_test, y_pred)\n",
    "plt.xlabel(\"Actual House Prices ($1000)\")\n",
    "plt.ylabel(\"Predicted House Prices: ($1000)\")\n",
    "plt.title(\"Actual Prices vs Predicted prices\")"
   ]
  },
  {
   "cell_type": "markdown",
   "id": "8343604a",
   "metadata": {
    "papermill": {
     "duration": 0.0056,
     "end_time": "2023-02-01T15:07:23.567593",
     "exception": false,
     "start_time": "2023-02-01T15:07:23.561993",
     "status": "completed"
    },
    "tags": []
   },
   "source": [
    "## Model with feature scaling\n",
    "\n",
    "There are many scaling methods. We'll use the standard scaler for this project which standardizes features by removing the mean and scales to unit variance"
   ]
  },
  {
   "cell_type": "code",
   "execution_count": 10,
   "id": "daf2dc4e",
   "metadata": {
    "execution": {
     "iopub.execute_input": "2023-02-01T15:07:23.581931Z",
     "iopub.status.busy": "2023-02-01T15:07:23.581553Z",
     "iopub.status.idle": "2023-02-01T15:07:23.592449Z",
     "shell.execute_reply": "2023-02-01T15:07:23.591366Z"
    },
    "papermill": {
     "duration": 0.020607,
     "end_time": "2023-02-01T15:07:23.594768",
     "exception": false,
     "start_time": "2023-02-01T15:07:23.574161",
     "status": "completed"
    },
    "tags": []
   },
   "outputs": [],
   "source": [
    "sc = StandardScaler().fit(X_train)\n",
    "\n",
    "#  use only the training set to figure out how to scale / normalize\n",
    "X_train_scaled = sc.transform(X_train)\n",
    "\n",
    "# then blindly apply the same transform to the test set\n",
    "X_test_scaled = sc.transform(X_test)"
   ]
  },
  {
   "cell_type": "code",
   "execution_count": 11,
   "id": "9649c3d9",
   "metadata": {
    "execution": {
     "iopub.execute_input": "2023-02-01T15:07:23.609037Z",
     "iopub.status.busy": "2023-02-01T15:07:23.608619Z",
     "iopub.status.idle": "2023-02-01T15:07:23.618418Z",
     "shell.execute_reply": "2023-02-01T15:07:23.616991Z"
    },
    "papermill": {
     "duration": 0.020432,
     "end_time": "2023-02-01T15:07:23.621404",
     "exception": false,
     "start_time": "2023-02-01T15:07:23.600972",
     "status": "completed"
    },
    "tags": []
   },
   "outputs": [
    {
     "name": "stdout",
     "output_type": "stream",
     "text": [
      "R-squared score for scaled model 0.74\n",
      "Adjusted R-squared score for scaled model 0.7313333333333334\n",
      "---------------------------------------------------------------------------------------\n",
      "Coefficients for scaled model [-1.13502719  1.15814527  0.00737057  0.68709635 -1.82837001  2.36271879\n",
      "  0.03166538 -3.06632775  3.16621482 -2.21457852 -2.08600876  1.0449511\n",
      " -4.17627077]\n",
      "Bias for scaled model 22.646782178217823\n"
     ]
    }
   ],
   "source": [
    "model_2 = LinearRegression()\n",
    "\n",
    "model_2.fit(X_train_scaled,y_train)\n",
    "\n",
    "# r-squared score\n",
    "r_sq = round(model_2.score(X_train_scaled,y_train),2)\n",
    "print(f\"R-squared score for scaled model {r_sq}\")\n",
    "adj_r = 1 - ( 1- r_sq ) * ( len(y_train) - 1 ) / ( len(y_train) - X_train_scaled.shape[1] - 1 )\n",
    "print(f\"Adjusted R-squared score for scaled model {adj_r}\")\n",
    "\n",
    "print(\"---------------------------------------------------------------------------------------\")\n",
    "# coefficients\n",
    "coef = model_2.coef_\n",
    "print(f\"Coefficients for scaled model {coef}\")\n",
    "\n",
    "b = model_2.intercept_\n",
    "print(f\"Bias for scaled model {b}\")"
   ]
  },
  {
   "cell_type": "code",
   "execution_count": 12,
   "id": "85cb00b1",
   "metadata": {
    "execution": {
     "iopub.execute_input": "2023-02-01T15:07:23.636379Z",
     "iopub.status.busy": "2023-02-01T15:07:23.635754Z",
     "iopub.status.idle": "2023-02-01T15:07:23.814867Z",
     "shell.execute_reply": "2023-02-01T15:07:23.813465Z"
    },
    "papermill": {
     "duration": 0.189374,
     "end_time": "2023-02-01T15:07:23.817558",
     "exception": false,
     "start_time": "2023-02-01T15:07:23.628184",
     "status": "completed"
    },
    "tags": []
   },
   "outputs": [
    {
     "data": {
      "text/plain": [
       "Text(0.5, 1.0, 'Actual Prices vs Predicted prices')"
      ]
     },
     "execution_count": 12,
     "metadata": {},
     "output_type": "execute_result"
    },
    {
     "data": {
      "image/png": "[encoded data removed]",
      "text/plain": [
       "<Figure size 432x288 with 1 Axes>"
      ]
     },
     "metadata": {
      "needs_background": "light"
     },
     "output_type": "display_data"
    }
   ],
   "source": [
    "y_pred = model_2.predict(X_test_scaled)\n",
    "\n",
    "# LETS PLOT!\n",
    "plt.scatter(y_test, y_pred, alpha = .5)\n",
    "plt.xlabel(\"Actual House Prices ($1000)\")\n",
    "plt.ylabel(\"Predicted House Prices: ($1000)\")\n",
    "plt.title(\"Actual Prices vs Predicted prices\")"
   ]
  },
  {
   "cell_type": "code",
   "execution_count": 13,
   "id": "a811767d",
   "metadata": {
    "execution": {
     "iopub.execute_input": "2023-02-01T15:07:23.833323Z",
     "iopub.status.busy": "2023-02-01T15:07:23.831376Z",
     "iopub.status.idle": "2023-02-01T15:07:24.123038Z",
     "shell.execute_reply": "2023-02-01T15:07:24.122028Z"
    },
    "papermill": {
     "duration": 0.301178,
     "end_time": "2023-02-01T15:07:24.125144",
     "exception": false,
     "start_time": "2023-02-01T15:07:23.823966",
     "status": "completed"
    },
    "tags": []
   },
   "outputs": [
    {
     "data": {
      "text/plain": [
       "Text(0.5, 1.0, 'Residual pdf')"
      ]
     },
     "execution_count": 13,
     "metadata": {},
     "output_type": "execute_result"
    },
    {
     "data": {
      "image/png": "[encoded data removed]",
      "text/plain": [
       "<Figure size 360x360 with 1 Axes>"
      ]
     },
     "metadata": {
      "needs_background": "light"
     },
     "output_type": "display_data"
    }
   ],
   "source": [
    "sns.displot(y_test-y_pred)\n",
    "plt.title(\"Residual pdf\")"
   ]
  },
  {
   "cell_type": "code",
   "execution_count": 14,
   "id": "ff5da8aa",
   "metadata": {
    "execution": {
     "iopub.execute_input": "2023-02-01T15:07:24.140883Z",
     "iopub.status.busy": "2023-02-01T15:07:24.139836Z",
     "iopub.status.idle": "2023-02-01T15:07:24.148135Z",
     "shell.execute_reply": "2023-02-01T15:07:24.146776Z"
    },
    "papermill": {
     "duration": 0.01835,
     "end_time": "2023-02-01T15:07:24.150284",
     "exception": false,
     "start_time": "2023-02-01T15:07:24.131934",
     "status": "completed"
    },
    "tags": []
   },
   "outputs": [
    {
     "data": {
      "text/plain": [
       "array([37.56311787, 32.14445143, 27.06573629,  5.67080633, 35.09982577,\n",
       "        5.85803701, 27.53708506, 31.81019188, 26.35634771, 22.77208748,\n",
       "       31.91183048, 21.50224061, 23.70119983, 33.3622504 , 28.51633591,\n",
       "       14.39456899,  0.19284025, 18.66247155, 13.71004139, 14.13408635,\n",
       "        2.03263952, 19.7280831 , 38.18657429, 24.19760058, 31.30247973,\n",
       "       11.14144544, 25.03636951, 23.27970871, 22.49420127, 20.52972594,\n",
       "       15.16513744,  6.92553586, 18.3557733 , 22.37179804, 28.91287973,\n",
       "       19.02980786, 30.19357214,  8.74384915, 40.86691522, 34.53763591,\n",
       "       20.70224878,  2.59618963, 29.99590282, 12.15704798, 27.10186397,\n",
       "       30.8052437 , -6.24169079, 19.84885777, 20.92973441, 12.43523958,\n",
       "       20.4949947 , 19.19231742, 23.69073157, 12.67998473, 17.14252424,\n",
       "       25.04649176, 34.77758126, 15.23294903, 28.22306193, 21.08745388,\n",
       "       20.39506129, 25.79476888, 14.72463673, 33.18635032, 23.17771307,\n",
       "       13.11057248, 19.23154617, 24.61162961, 21.50327036, 22.00419172,\n",
       "       20.5900874 , 27.19709085, 16.86361523, 18.92610238, 20.62344917,\n",
       "       25.73255665, 22.03855586, 14.51899949, 34.3918044 , 18.5369776 ,\n",
       "       23.38945015, 41.36132839, 23.27134886, 15.62340913, 25.69729854,\n",
       "       17.16406313, 18.5066679 , 10.04976469, 18.99779955, 17.02528993,\n",
       "       35.707325  , 17.50855206, 22.16184894, 19.26215663, 24.16777784,\n",
       "       27.80472748, 12.42828948, 21.91295599, 22.39477399, 13.19335364,\n",
       "       23.96991103, 21.19914699])"
      ]
     },
     "execution_count": 14,
     "metadata": {},
     "output_type": "execute_result"
    }
   ],
   "source": [
    "y_pred"
   ]
  },
  {
   "cell_type": "code",
   "execution_count": 15,
   "id": "3949f1c6",
   "metadata": {
    "execution": {
     "iopub.execute_input": "2023-02-01T15:07:24.165329Z",
     "iopub.status.busy": "2023-02-01T15:07:24.164969Z",
     "iopub.status.idle": "2023-02-01T15:07:24.182349Z",
     "shell.execute_reply": "2023-02-01T15:07:24.181088Z"
    },
    "papermill": {
     "duration": 0.028084,
     "end_time": "2023-02-01T15:07:24.185163",
     "exception": false,
     "start_time": "2023-02-01T15:07:24.157079",
     "status": "completed"
    },
    "tags": []
   },
   "outputs": [
    {
     "data": {
      "text/html": [
       "<div>\n",
       "<style scoped>\n",
       "    .dataframe tbody tr th:only-of-type {\n",
       "        vertical-align: middle;\n",
       "    }\n",
       "\n",
       "    .dataframe tbody tr th {\n",
       "        vertical-align: top;\n",
       "    }\n",
       "\n",
       "    .dataframe thead th {\n",
       "        text-align: right;\n",
       "    }\n",
       "</style>\n",
       "<table border=\"1\" class=\"dataframe\">\n",
       "  <thead>\n",
       "    <tr style=\"text-align: right;\">\n",
       "      <th></th>\n",
       "      <th>Target</th>\n",
       "      <th>Predicted</th>\n",
       "      <th>Difference</th>\n",
       "    </tr>\n",
       "  </thead>\n",
       "  <tbody>\n",
       "    <tr>\n",
       "      <th>0</th>\n",
       "      <td>37.6</td>\n",
       "      <td>37.563118</td>\n",
       "      <td>0.036882</td>\n",
       "    </tr>\n",
       "    <tr>\n",
       "      <th>1</th>\n",
       "      <td>27.9</td>\n",
       "      <td>32.144451</td>\n",
       "      <td>-4.244451</td>\n",
       "    </tr>\n",
       "    <tr>\n",
       "      <th>2</th>\n",
       "      <td>22.6</td>\n",
       "      <td>27.065736</td>\n",
       "      <td>-4.465736</td>\n",
       "    </tr>\n",
       "    <tr>\n",
       "      <th>3</th>\n",
       "      <td>13.8</td>\n",
       "      <td>5.670806</td>\n",
       "      <td>8.129194</td>\n",
       "    </tr>\n",
       "    <tr>\n",
       "      <th>4</th>\n",
       "      <td>35.2</td>\n",
       "      <td>35.099826</td>\n",
       "      <td>0.100174</td>\n",
       "    </tr>\n",
       "    <tr>\n",
       "      <th>...</th>\n",
       "      <td>...</td>\n",
       "      <td>...</td>\n",
       "      <td>...</td>\n",
       "    </tr>\n",
       "    <tr>\n",
       "      <th>97</th>\n",
       "      <td>26.6</td>\n",
       "      <td>21.912956</td>\n",
       "      <td>4.687044</td>\n",
       "    </tr>\n",
       "    <tr>\n",
       "      <th>98</th>\n",
       "      <td>22.4</td>\n",
       "      <td>22.394774</td>\n",
       "      <td>0.005226</td>\n",
       "    </tr>\n",
       "    <tr>\n",
       "      <th>99</th>\n",
       "      <td>13.1</td>\n",
       "      <td>13.193354</td>\n",
       "      <td>-0.093354</td>\n",
       "    </tr>\n",
       "    <tr>\n",
       "      <th>100</th>\n",
       "      <td>23.0</td>\n",
       "      <td>23.969911</td>\n",
       "      <td>-0.969911</td>\n",
       "    </tr>\n",
       "    <tr>\n",
       "      <th>101</th>\n",
       "      <td>24.5</td>\n",
       "      <td>21.199147</td>\n",
       "      <td>3.300853</td>\n",
       "    </tr>\n",
       "  </tbody>\n",
       "</table>\n",
       "<p>102 rows × 3 columns</p>\n",
       "</div>"
      ],
      "text/plain": [
       "     Target  Predicted  Difference\n",
       "0      37.6  37.563118    0.036882\n",
       "1      27.9  32.144451   -4.244451\n",
       "2      22.6  27.065736   -4.465736\n",
       "3      13.8   5.670806    8.129194\n",
       "4      35.2  35.099826    0.100174\n",
       "..      ...        ...         ...\n",
       "97     26.6  21.912956    4.687044\n",
       "98     22.4  22.394774    0.005226\n",
       "99     13.1  13.193354   -0.093354\n",
       "100    23.0  23.969911   -0.969911\n",
       "101    24.5  21.199147    3.300853\n",
       "\n",
       "[102 rows x 3 columns]"
      ]
     },
     "execution_count": 15,
     "metadata": {},
     "output_type": "execute_result"
    }
   ],
   "source": [
    "res =  pd.DataFrame(y_test)\n",
    "res.rename(columns={\"MEDV\":\"Target\"}, inplace = True)\n",
    "\n",
    "res['Predicted'] = y_pred\n",
    "res[\"Difference\"] = (res[\"Target\"] - res['Predicted'])\n",
    "res.reset_index(drop=True)"
   ]
  },
  {
   "cell_type": "code",
   "execution_count": 16,
   "id": "e7795da1",
   "metadata": {
    "execution": {
     "iopub.execute_input": "2023-02-01T15:07:24.201542Z",
     "iopub.status.busy": "2023-02-01T15:07:24.201172Z",
     "iopub.status.idle": "2023-02-01T15:07:24.224862Z",
     "shell.execute_reply": "2023-02-01T15:07:24.223056Z"
    },
    "papermill": {
     "duration": 0.035067,
     "end_time": "2023-02-01T15:07:24.227770",
     "exception": false,
     "start_time": "2023-02-01T15:07:24.192703",
     "status": "completed"
    },
    "tags": []
   },
   "outputs": [
    {
     "data": {
      "text/html": [
       "<div>\n",
       "<style scoped>\n",
       "    .dataframe tbody tr th:only-of-type {\n",
       "        vertical-align: middle;\n",
       "    }\n",
       "\n",
       "    .dataframe tbody tr th {\n",
       "        vertical-align: top;\n",
       "    }\n",
       "\n",
       "    .dataframe thead th {\n",
       "        text-align: right;\n",
       "    }\n",
       "</style>\n",
       "<table border=\"1\" class=\"dataframe\">\n",
       "  <thead>\n",
       "    <tr style=\"text-align: right;\">\n",
       "      <th></th>\n",
       "      <th>Target</th>\n",
       "      <th>Predicted</th>\n",
       "      <th>Difference</th>\n",
       "    </tr>\n",
       "  </thead>\n",
       "  <tbody>\n",
       "    <tr>\n",
       "      <th>count</th>\n",
       "      <td>102.000000</td>\n",
       "      <td>102.000000</td>\n",
       "      <td>102.000000</td>\n",
       "    </tr>\n",
       "    <tr>\n",
       "      <th>mean</th>\n",
       "      <td>22.081373</td>\n",
       "      <td>21.498551</td>\n",
       "      <td>0.582821</td>\n",
       "    </tr>\n",
       "    <tr>\n",
       "      <th>std</th>\n",
       "      <td>8.892078</td>\n",
       "      <td>8.737521</td>\n",
       "      <td>4.553337</td>\n",
       "    </tr>\n",
       "    <tr>\n",
       "      <th>min</th>\n",
       "      <td>7.000000</td>\n",
       "      <td>-6.241691</td>\n",
       "      <td>-6.902249</td>\n",
       "    </tr>\n",
       "    <tr>\n",
       "      <th>25%</th>\n",
       "      <td>16.900000</td>\n",
       "      <td>17.054599</td>\n",
       "      <td>-2.510220</td>\n",
       "    </tr>\n",
       "    <tr>\n",
       "      <th>50%</th>\n",
       "      <td>21.300000</td>\n",
       "      <td>21.502755</td>\n",
       "      <td>0.021054</td>\n",
       "    </tr>\n",
       "    <tr>\n",
       "      <th>75%</th>\n",
       "      <td>24.775000</td>\n",
       "      <td>26.888389</td>\n",
       "      <td>2.226822</td>\n",
       "    </tr>\n",
       "    <tr>\n",
       "      <th>max</th>\n",
       "      <td>50.000000</td>\n",
       "      <td>41.361328</td>\n",
       "      <td>17.707160</td>\n",
       "    </tr>\n",
       "  </tbody>\n",
       "</table>\n",
       "</div>"
      ],
      "text/plain": [
       "           Target   Predicted  Difference\n",
       "count  102.000000  102.000000  102.000000\n",
       "mean    22.081373   21.498551    0.582821\n",
       "std      8.892078    8.737521    4.553337\n",
       "min      7.000000   -6.241691   -6.902249\n",
       "25%     16.900000   17.054599   -2.510220\n",
       "50%     21.300000   21.502755    0.021054\n",
       "75%     24.775000   26.888389    2.226822\n",
       "max     50.000000   41.361328   17.707160"
      ]
     },
     "execution_count": 16,
     "metadata": {},
     "output_type": "execute_result"
    }
   ],
   "source": [
    "res.describe()"
   ]
  }
 ],
 "metadata": {
  "kernelspec": {
   "display_name": "Python 3",
   "language": "python",
   "name": "python3"
  },
  "language_info": {
   "codemirror_mode": {
    "name": "ipython",
    "version": 3
   },
   "file_extension": ".py",
   "mimetype": "text/x-python",
   "name": "python",
   "nbconvert_exporter": "python",
   "pygments_lexer": "ipython3",
   "version": "3.7.12"
  },
  "papermill": {
   "default_parameters": {},
   "duration": 11.137456,
   "end_time": "2023-02-01T15:07:24.959156",
   "environment_variables": {},
   "exception": null,
   "input_path": "__notebook__.ipynb",
   "output_path": "__notebook__.ipynb",
   "parameters": {},
   "start_time": "2023-02-01T15:07:13.821700",
   "version": "2.3.4"
  }
 },
 "nbformat": 4,
 "nbformat_minor": 5
}
